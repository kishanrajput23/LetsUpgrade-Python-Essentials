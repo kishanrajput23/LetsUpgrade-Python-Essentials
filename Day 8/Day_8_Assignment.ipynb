{
  "nbformat": 4,
  "nbformat_minor": 0,
  "metadata": {
    "colab": {
      "name": "Copy of Day 8 Assignment.ipynb",
      "provenance": []
    },
    "kernelspec": {
      "name": "python3",
      "display_name": "Python 3"
    }
  },
  "cells": [
    {
      "cell_type": "markdown",
      "metadata": {
        "id": "bQDAfutSxY9q",
        "colab_type": "text"
      },
      "source": [
        "Name: Kishan Kumar Rai, Email: kishan.rai99693@gmail.com"
      ]
    },
    {
      "cell_type": "markdown",
      "metadata": {
        "id": "5RIfs5x1xk1W",
        "colab_type": "text"
      },
      "source": [
        "Question 1: Write a decorator for taking input for you any kind of function you want to build."
      ]
    },
    {
      "cell_type": "code",
      "metadata": {
        "id": "2nzm_8kvvrZ_",
        "colab_type": "code",
        "colab": {}
      },
      "source": [
        " def getInput(calculate_arg_fun):\n",
        "    \n",
        "    def wrap_function():\n",
        "    \n",
        "        a = int(input(\"\\nEnter First Number - \"))\n",
        "        \n",
        "        b = int(input(\"\\nEnter Second Number - \"))\n",
        "        \n",
        "        calculate_arg_fun(a,b)   \n",
        "    \n",
        "    return wrap_function"
      ],
      "execution_count": null,
      "outputs": []
    },
    {
      "cell_type": "code",
      "metadata": {
        "id": "HJK63_ApwsAY",
        "colab_type": "code",
        "colab": {}
      },
      "source": [
        " @getInput\n",
        " \n",
        "def OddFinder(start, last):\n",
        "    \n",
        "    print(\"\\nThe Even numbers in the range\",start,\"to\",last,\"is :\\n\")\n",
        " \n",
        "    for n in range(start, last + 1): \n",
        "      \n",
        "        if n % 2 != 0: \n",
        "            \n",
        "            print(n, end = \" \")"
      ],
      "execution_count": null,
      "outputs": []
    },
    {
      "cell_type": "code",
      "metadata": {
        "id": "Um3mwfAMwzSi",
        "colab_type": "code",
        "colab": {
          "base_uri": "https://localhost:8080/",
          "height": 173
        },
        "outputId": "5200fcb4-16b7-4fb7-a8fa-9515ccbeff2c"
      },
      "source": [
        "OddFinder()"
      ],
      "execution_count": null,
      "outputs": [
        {
          "output_type": "stream",
          "text": [
            "\n",
            "Enter First Number - 1\n",
            "\n",
            "Enter Second Number - 50\n",
            "\n",
            "The Even numbers in the range 1 to 50 is :\n",
            "\n",
            "1 3 5 7 9 11 13 15 17 19 21 23 25 27 29 31 33 35 37 39 41 43 45 47 49 "
          ],
          "name": "stdout"
        }
      ]
    },
    {
      "cell_type": "markdown",
      "metadata": {
        "id": "_x_NdWG6x9E8",
        "colab_type": "text"
      },
      "source": [
        "Question 2: For this challenge you need to develop a Python Program to open a file in read only mode and try writing something to it and Handle the subsequent errors using Exception Handling."
      ]
    },
    {
      "cell_type": "code",
      "metadata": {
        "id": "d8O-N-hbx58D",
        "colab_type": "code",
        "colab": {
          "base_uri": "https://localhost:8080/",
          "height": 34
        },
        "outputId": "a45f7385-da49-49ba-b8f6-8a69a0bacd7e"
      },
      "source": [
        " %%writefile test.txt\n",
        " \n",
        "Hello, this is Kishan. Let's code together with LetsUpgrade."
      ],
      "execution_count": null,
      "outputs": [
        {
          "output_type": "stream",
          "text": [
            "Writing test.txt\n"
          ],
          "name": "stdout"
        }
      ]
    },
    {
      "cell_type": "code",
      "metadata": {
        "id": "_q21aonGzMAz",
        "colab_type": "code",
        "colab": {
          "base_uri": "https://localhost:8080/",
          "height": 85
        },
        "outputId": "56ab72bc-2897-4dcb-d953-1470b5ee21d8"
      },
      "source": [
        " try:\n",
        "    \n",
        "    file = open(\"test.txt\",\"r\")\n",
        "    \n",
        "    file.write(\"\\nLet's Hack with LetsUpgrade.\")\n",
        "    \n",
        "    print(\"\\nWrite operation has done successfully in read only mode.\")\n",
        "    \n",
        "except Exception as e:\n",
        "    \n",
        "    print(\"\\nError has been occured\")\n",
        "    \n",
        "    print(\"\\nError message is :\",e)"
      ],
      "execution_count": null,
      "outputs": [
        {
          "output_type": "stream",
          "text": [
            "\n",
            "Error has been occured\n",
            "\n",
            "Error message is : not writable\n"
          ],
          "name": "stdout"
        }
      ]
    }
  ]
}