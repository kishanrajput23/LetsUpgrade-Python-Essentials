{
  "nbformat": 4,
  "nbformat_minor": 0,
  "metadata": {
    "colab": {
      "name": "Day 3 Assignment.ipynb",
      "provenance": []
    },
    "kernelspec": {
      "name": "python3",
      "display_name": "Python 3"
    }
  },
  "cells": [
    {
      "cell_type": "markdown",
      "metadata": {
        "id": "mz534EutHhS4",
        "colab_type": "text"
      },
      "source": [
        "**NAME: KISHAN KUMAR RAI,  EMAIL: kishan.rai99693@gmail.com**"
      ]
    },
    {
      "cell_type": "markdown",
      "metadata": {
        "id": "jscC4rxxHymi",
        "colab_type": "text"
      },
      "source": [
        "**QUESTION 1:-**\n",
        "You all are Pilots, you want to land a plane safely, so altitude required for landing a plane is\n",
        "1000ft, it it is less than tell pilot to land the plane, or it is more than that but less than 5000ft ask\n",
        "the pilot to “come down to 1000ft”, else if it more than 5000ft ask the pilot to “go around and try\n",
        "later”"
      ]
    },
    {
      "cell_type": "code",
      "metadata": {
        "id": "iLJKtqO3FxAg",
        "colab_type": "code",
        "colab": {
          "base_uri": "https://localhost:8080/",
          "height": 50
        },
        "outputId": "8729edaa-6345-427b-c1e2-6fac7bc5d5ce"
      },
      "source": [
        "altitude = int(input(\"Enter the current altitude: \"))\n",
        "if altitude < 1000:\n",
        "  print(\"Safe to land\")\n",
        "elif 1000 <= altitude < 5000:\n",
        "  print(\"Bring it down to 1000ft\")\n",
        "else:\n",
        "  print(\"Go around and try later\")    "
      ],
      "execution_count": 5,
      "outputs": [
        {
          "output_type": "stream",
          "text": [
            "Enter the current altitude: 999\n",
            "Safe to land\n"
          ],
          "name": "stdout"
        }
      ]
    },
    {
      "cell_type": "code",
      "metadata": {
        "id": "BiYlMa60JMo7",
        "colab_type": "code",
        "colab": {
          "base_uri": "https://localhost:8080/",
          "height": 50
        },
        "outputId": "0181c50d-a3ca-49fc-f124-76f7061fa34b"
      },
      "source": [
        "altitude = int(input(\"Enter the current altitude: \"))\n",
        "if altitude < 1000:\n",
        "  print(\"Safe to land\")\n",
        "elif 1000 <= altitude < 5000:\n",
        "  print(\"Bring it down to 1000ft\")\n",
        "else:\n",
        "  print(\"Go around and try later\")    "
      ],
      "execution_count": 6,
      "outputs": [
        {
          "output_type": "stream",
          "text": [
            "Enter the current altitude: 3555\n",
            "Bring it down to 1000ft\n"
          ],
          "name": "stdout"
        }
      ]
    },
    {
      "cell_type": "code",
      "metadata": {
        "id": "RosHRiAOKL_k",
        "colab_type": "code",
        "colab": {
          "base_uri": "https://localhost:8080/",
          "height": 50
        },
        "outputId": "dde905be-70ed-4f50-d183-819afa2a4e88"
      },
      "source": [
        "altitude = int(input(\"Enter the current altitude: \"))\n",
        "if altitude < 1000:\n",
        "  print(\"Safe to land\")\n",
        "elif 1000 <= altitude < 5000:\n",
        "  print(\"Bring it down to 1000ft\")\n",
        "else:\n",
        "  print(\"Go around and try later\")    "
      ],
      "execution_count": 7,
      "outputs": [
        {
          "output_type": "stream",
          "text": [
            "Enter the current altitude: 7000\n",
            "Go around and try later\n"
          ],
          "name": "stdout"
        }
      ]
    },
    {
      "cell_type": "markdown",
      "metadata": {
        "id": "UvBGuaOYKXnm",
        "colab_type": "text"
      },
      "source": [
        "**QUESTION 2:-**\n",
        "Using for loop please print all the prime numbers between 1- 200 using FOR LOOP AND RANGE\n",
        "function"
      ]
    },
    {
      "cell_type": "code",
      "metadata": {
        "id": "u51kNLLhKR8G",
        "colab_type": "code",
        "colab": {
          "base_uri": "https://localhost:8080/",
          "height": 806
        },
        "outputId": "3a0c56ee-5585-4ede-e21a-c99f9d267dd0"
      },
      "source": [
        "print(\"The prime numbers between 1 to 200 are as follows:\")\n",
        "for i in range(1,200):\n",
        "  if i > 1:\n",
        "    for j in range(2,i):\n",
        "      if(i % j==0):\n",
        "       break\n",
        "    else: \n",
        "     print(i)\n",
        "  "
      ],
      "execution_count": 17,
      "outputs": [
        {
          "output_type": "stream",
          "text": [
            "The prime numbers between 1 to 200 are as follows:\n",
            "2\n",
            "3\n",
            "5\n",
            "7\n",
            "11\n",
            "13\n",
            "17\n",
            "19\n",
            "23\n",
            "29\n",
            "31\n",
            "37\n",
            "41\n",
            "43\n",
            "47\n",
            "53\n",
            "59\n",
            "61\n",
            "67\n",
            "71\n",
            "73\n",
            "79\n",
            "83\n",
            "89\n",
            "97\n",
            "101\n",
            "103\n",
            "107\n",
            "109\n",
            "113\n",
            "127\n",
            "131\n",
            "137\n",
            "139\n",
            "149\n",
            "151\n",
            "157\n",
            "163\n",
            "167\n",
            "173\n",
            "179\n",
            "181\n",
            "191\n",
            "193\n",
            "197\n",
            "199\n"
          ],
          "name": "stdout"
        }
      ]
    },
    {
      "cell_type": "code",
      "metadata": {
        "id": "b-Yyq-nFL5ml",
        "colab_type": "code",
        "colab": {}
      },
      "source": [
        ""
      ],
      "execution_count": 15,
      "outputs": []
    }
  ]
}