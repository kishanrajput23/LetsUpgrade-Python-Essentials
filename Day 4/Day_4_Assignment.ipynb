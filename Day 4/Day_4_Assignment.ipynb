{
  "nbformat": 4,
  "nbformat_minor": 0,
  "metadata": {
    "colab": {
      "name": "Day 4 Assignment.ipynb",
      "provenance": []
    },
    "kernelspec": {
      "name": "python3",
      "display_name": "Python 3"
    }
  },
  "cells": [
    {
      "cell_type": "markdown",
      "metadata": {
        "id": "1_WCGih-jIkj",
        "colab_type": "text"
      },
      "source": [
        "**NAME** : KISHAN KUMAR RAI,    **EMAIL** : kishan.rai99693@gmail.com"
      ]
    },
    {
      "cell_type": "markdown",
      "metadata": {
        "id": "L0VYA0zAkaFZ",
        "colab_type": "text"
      },
      "source": [
        "**Question 1**:\n",
        "Print the first ArmStrong number in the range of 1042000 to 702648265 and exit the loop as soon\n",
        "as you encounter the first armstrong number.\n",
        "Use while loop."
      ]
    },
    {
      "cell_type": "code",
      "metadata": {
        "id": "2H7XPOOvjBJl",
        "colab_type": "code",
        "colab": {
          "base_uri": "https://localhost:8080/",
          "height": 34
        },
        "outputId": "2848dfb0-cc72-4fe9-d42e-ef2d8f766d7f"
      },
      "source": [
        "for i in range(1042000, 702648265):\n",
        "  order = len(str(i))\n",
        "  sum = 0\n",
        "  temp = i\n",
        "  while temp > 0:\n",
        "    digit = temp % 10\n",
        "    sum += digit ** order\n",
        "    temp //= 10\n",
        "  if i == sum:\n",
        "    print(\"This is the first armstrong number:\",i)\n",
        "    break     \n",
        "    \n"
      ],
      "execution_count": 9,
      "outputs": [
        {
          "output_type": "stream",
          "text": [
            "This is the first armstrong number: 1741725\n"
          ],
          "name": "stdout"
        }
      ]
    },
    {
      "cell_type": "code",
      "metadata": {
        "id": "lGDUEgqts64T",
        "colab_type": "code",
        "colab": {}
      },
      "source": [
        ""
      ],
      "execution_count": null,
      "outputs": []
    }
  ]
}