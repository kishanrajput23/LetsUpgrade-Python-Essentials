{
  "nbformat": 4,
  "nbformat_minor": 0,
  "metadata": {
    "colab": {
      "name": "Day 6 Assignment.ipynb",
      "provenance": []
    },
    "kernelspec": {
      "name": "python3",
      "display_name": "Python 3"
    }
  },
  "cells": [
    {
      "cell_type": "markdown",
      "metadata": {
        "id": "QK2UUlUdxUVk",
        "colab_type": "text"
      },
      "source": [
        "**NAME:** KISHAN KUMAR RAI, **EMAIL:** kishan.rai99693@gmail.com"
      ]
    },
    {
      "cell_type": "markdown",
      "metadata": {
        "id": "3n_o0v1n1Uo9",
        "colab_type": "text"
      },
      "source": [
        "**Question 1:**\n",
        "For this challenge,create a bank account class that has two attributes \n",
        "\n",
        "ownerName and Balance\n",
        "\n",
        "And two methods\n",
        "\n",
        "deposit and withdraw\n",
        "\n",
        "As an added requirement,withdrawals may not exceed the available balance.\n",
        "Instantiate your class,make several deposits and withdrawals,and test to make sure the account\n",
        "cant be overdrawn"
      ]
    },
    {
      "cell_type": "code",
      "metadata": {
        "id": "I8w6MsjLxNPk",
        "colab_type": "code",
        "colab": {
          "base_uri": "https://localhost:8080/",
          "height": 302
        },
        "outputId": "864a8366-e31f-4c66-a7e8-14774f06835f"
      },
      "source": [
        "import random\n",
        "\n",
        "class bankAccount():\n",
        "  owner_name = ''\n",
        "  balance = 0\n",
        "\n",
        "\n",
        "  def __init__(self,owner_name,balance):\n",
        "    self.owner_name = owner_name\n",
        "    self.balance = balance\n",
        "  \n",
        "  def display_info(self):\n",
        "    print(\"Account_Holder_Name: \"+ self.owner_name, \"\\nTotal number of amount in your account: Rs.\"+ str(self.balance))\n",
        "  \n",
        "  def deposit(self):\n",
        "    print(\"=======================================================================================================\")\n",
        "    deposit_money = int(input(\"Enter the amount you want to deposit: \"))\n",
        "    print(\"You deposited: Rs.\"+str(deposit_money))\n",
        "    self.balance += deposit_money\n",
        "    print(\"Your total account balance: Rs.\"+ str(self.balance))\n",
        "\n",
        "  def withdraw(self):\n",
        "    print(\"=======================================================================================================\")\n",
        "    withdraw_amount = int(input(\"Enter the amount you want to withdraw: \"))\n",
        "    print(\"Your withdrawal amount\"+ str(withdraw_amount))\n",
        "    self.balance -= withdraw_amount\n",
        "    if self.balance > 0:\n",
        "      print(\"Your current balance: Rs.\"+ str(self.balance))\n",
        "    else:\n",
        "      print(\"Sorry we can't proceed, your current balance is very low\")\n",
        "\n",
        "print(\"===========================================================================================================\")\n",
        "name = input('\\nEnter Your Name : ')\n",
        "accountBal = random.choice(list(range(10000,50000)))\n",
        "\n",
        "obj = bankAccount(name,accountBal)\n",
        "obj.display_info()\n",
        "\n",
        "print(\"===========================================================================================================\")\n",
        "print(\"\\nWhat Do You Want To Do?\\n 1. Diposit Money\\n 2. Withdraw Money\")\n",
        "print(\"===========================================================================================================\")\n",
        "choice = int(input('\\nPlease Enter Your Choice(1 or 2): '))\n",
        "\n",
        "if choice == 1:\n",
        "    obj.deposit()\n",
        "elif choice ==2:\n",
        "    obj.withdraw()\n",
        "else:\n",
        "    print(\"Invalid Input.....\")\n",
        "\n",
        "\n"
      ],
      "execution_count": 10,
      "outputs": [
        {
          "output_type": "stream",
          "text": [
            "===========================================================================================================\n",
            "\n",
            "Enter Your Name : Kishan Kumar Rai\n",
            "Account_Holder_Name: Kishan Kumar Rai \n",
            "Total number of amount in your account: Rs.31171\n",
            "===========================================================================================================\n",
            "\n",
            "What Do You Want To Do?\n",
            " 1. Diposit Money\n",
            " 2. Withdraw Money\n",
            "===========================================================================================================\n",
            "\n",
            "Please Enter Your Choice(1 or 2): 1\n",
            "=======================================================================================================\n",
            "Enter the amount you want to deposit: 99999\n",
            "You deposited: Rs.99999\n",
            "Your total account balance: Rs.131170\n"
          ],
          "name": "stdout"
        }
      ]
    },
    {
      "cell_type": "code",
      "metadata": {
        "id": "omu-cK5k_nCF",
        "colab_type": "code",
        "colab": {
          "base_uri": "https://localhost:8080/",
          "height": 302
        },
        "outputId": "211f0047-41ac-47ae-de80-c9bc3f7ab3a5"
      },
      "source": [
        "import random\n",
        "\n",
        "class bankAccount():\n",
        "  owner_name = ''\n",
        "  balance = 0\n",
        "\n",
        "\n",
        "  def __init__(self,owner_name,balance):\n",
        "    self.owner_name = owner_name\n",
        "    self.balance = balance\n",
        "  \n",
        "  def display_info(self):\n",
        "    print(\"Account_Holder_Name: \"+ self.owner_name, \"\\nTotal number of amount in your account: Rs.\"+ str(self.balance))\n",
        "  \n",
        "  def deposit(self):\n",
        "    print(\"=======================================================================================================\")\n",
        "    deposit_money = int(input(\"Enter the amount you want to deposit: \"))\n",
        "    print(\"You deposited: Rs.\"+str(deposit_money))\n",
        "    self.balance += deposit_money\n",
        "    print(\"Your total account balance: Rs.\"+ str(self.balance))\n",
        "\n",
        "  def withdraw(self):\n",
        "    print(\"=======================================================================================================\")\n",
        "    withdraw_amount = int(input(\"Enter the amount you want to withdraw: \"))\n",
        "    print(\"Your withdrawal amount\"+ str(withdraw_amount))\n",
        "    self.balance -= withdraw_amount\n",
        "    if self.balance > 0:\n",
        "      print(\"Your current balance: Rs.\"+ str(self.balance))\n",
        "    else:\n",
        "      print(\"Sorry we can't proceed, your current balance is very low\")\n",
        "\n",
        "print(\"===========================================================================================================\")\n",
        "name = input('\\nEnter Your Name : ')\n",
        "accountBal = random.choice(list(range(10000,50000)))\n",
        "\n",
        "obj = bankAccount(name,accountBal)\n",
        "obj.display_info()\n",
        "\n",
        "print(\"===========================================================================================================\")\n",
        "print(\"\\nWhat Do You Want To Do?\\n 1. Diposit Money\\n 2. Withdraw Money\")\n",
        "print(\"===========================================================================================================\")\n",
        "choice = int(input('\\nPlease Enter Your Choice(1 or 2): '))\n",
        "\n",
        "if choice == 1:\n",
        "    obj.deposit()\n",
        "elif choice ==2:\n",
        "    obj.withdraw()\n",
        "else:\n",
        "    print(\"Invalid Input.....\")\n",
        "\n",
        "\n"
      ],
      "execution_count": 12,
      "outputs": [
        {
          "output_type": "stream",
          "text": [
            "===========================================================================================================\n",
            "\n",
            "Enter Your Name : Kishan Kumar Rai\n",
            "Account_Holder_Name: Kishan Kumar Rai \n",
            "Total number of amount in your account: Rs.37871\n",
            "===========================================================================================================\n",
            "\n",
            "What Do You Want To Do?\n",
            " 1. Diposit Money\n",
            " 2. Withdraw Money\n",
            "===========================================================================================================\n",
            "\n",
            "Please Enter Your Choice(1 or 2): 2\n",
            "=======================================================================================================\n",
            "Enter the amount you want to withdraw: 37869\n",
            "Your withdrawal amount37869\n",
            "Your current balance: Rs.2\n"
          ],
          "name": "stdout"
        }
      ]
    },
    {
      "cell_type": "markdown",
      "metadata": {
        "id": "HMCF1dpKPFg8",
        "colab_type": "text"
      },
      "source": [
        "**Question 2:**\n",
        "For this challenge,create a cone class that has two attributes:\n",
        "\n",
        "R=Radius and h=Height\n",
        "\n",
        "And two methods:\n",
        "Volume = Π * r2 = (h/3) and Surface area : base : Π * r2 , side : Π * r * √(r2 + h2)\n",
        "Make only one class with functions,as in where required import Math."
      ]
    },
    {
      "cell_type": "code",
      "metadata": {
        "id": "Pf0nJT9lN8C0",
        "colab_type": "code",
        "colab": {
          "base_uri": "https://localhost:8080/",
          "height": 101
        },
        "outputId": "11ac722c-07f9-491d-f38f-f4bee53610b8"
      },
      "source": [
        "import math\n",
        "\n",
        "class Cone():\n",
        "  \n",
        "  radius = 0\n",
        "  height = 0\n",
        "  \n",
        "  def __init__(self,radius,height):\n",
        "    self.radius = radius\n",
        "    self.height = height\n",
        "\n",
        "  def volume(self):\n",
        "    vol = math.pi * self.radius ** 2 * (self.height / 3)\n",
        "    print(\"The volume is: \"+str(round(vol,2)))\n",
        "\n",
        "  def surfaceArea(self):\n",
        "    slant_height = math.sqrt(self.radius ** 2 + self.height ** 2)\n",
        "    area = math.pi * self.radius * slant_height \n",
        "    print(\"The area is: \"+str(round(area,2)))\n",
        "\n",
        "print(\"Enter the values:\")\n",
        "radius = float(input(\"Enter the value of radius: \"))\n",
        "height = float(input(\"Enter the value of height: \"))\n",
        "\n",
        "obj = Cone(radius,height)\n",
        "obj.volume()\n",
        "obj.surfaceArea()\n"
      ],
      "execution_count": 23,
      "outputs": [
        {
          "output_type": "stream",
          "text": [
            "Enter the values:\n",
            "Enter the value of radius: 5.5\n",
            "Enter the value of height: 10.9\n",
            "The volume is: 345.29\n",
            "The area is: 210.96\n"
          ],
          "name": "stdout"
        }
      ]
    },
    {
      "cell_type": "code",
      "metadata": {
        "id": "ZVrkYh2VX2uv",
        "colab_type": "code",
        "colab": {}
      },
      "source": [
        ""
      ],
      "execution_count": 22,
      "outputs": []
    }
  ]
}