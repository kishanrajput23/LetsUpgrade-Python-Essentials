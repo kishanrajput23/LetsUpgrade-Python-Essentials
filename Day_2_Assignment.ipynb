{
  "nbformat": 4,
  "nbformat_minor": 0,
  "metadata": {
    "colab": {
      "name": "Day 2",
      "provenance": [],
      "collapsed_sections": []
    },
    "kernelspec": {
      "name": "python3",
      "display_name": "Python 3"
    }
  },
  "cells": [
    {
      "cell_type": "markdown",
      "metadata": {
        "id": "77wh4pE_r2p4",
        "colab_type": "text"
      },
      "source": [
        "**Name : Kishan Kumar Rai, Email : kishan.rai99693@gmail.com**"
      ]
    },
    {
      "cell_type": "markdown",
      "metadata": {
        "id": "B2KsjxoppkgR",
        "colab_type": "text"
      },
      "source": [
        "**1. LIST AND ITS DEFAULT FUNCTIONS**"
      ]
    },
    {
      "cell_type": "code",
      "metadata": {
        "id": "Wf9QoOwQp2Rn",
        "colab_type": "code",
        "colab": {
          "base_uri": "https://localhost:8080/",
          "height": 34
        },
        "outputId": "7811f24b-7797-4d56-b86f-50624611e07e"
      },
      "source": [
        "lst = [\"Ram\",\"Shyam\",5,2,6,1,\"Python\",\"Letsupgrade\"]\n",
        "lst"
      ],
      "execution_count": null,
      "outputs": [
        {
          "output_type": "execute_result",
          "data": {
            "text/plain": [
              "['Ram', 'Shyam', 5, 2, 6, 1, 'Python', 'Letsupgrade']"
            ]
          },
          "metadata": {
            "tags": []
          },
          "execution_count": 1
        }
      ]
    },
    {
      "cell_type": "code",
      "metadata": {
        "id": "R4ZpsUAvqIIb",
        "colab_type": "code",
        "colab": {
          "base_uri": "https://localhost:8080/",
          "height": 34
        },
        "outputId": "15f6548e-9306-40c1-dc03-3537ce1d856f"
      },
      "source": [
        "lst.append(\"Hello there!\")\n",
        "lst"
      ],
      "execution_count": null,
      "outputs": [
        {
          "output_type": "execute_result",
          "data": {
            "text/plain": [
              "['Ram', 'Shyam', 5, 2, 6, 1, 'Python', 'Letsupgrade', 'Hello there!']"
            ]
          },
          "metadata": {
            "tags": []
          },
          "execution_count": 2
        }
      ]
    },
    {
      "cell_type": "code",
      "metadata": {
        "id": "4yIBIsdEqTLn",
        "colab_type": "code",
        "colab": {
          "base_uri": "https://localhost:8080/",
          "height": 34
        },
        "outputId": "41061e39-5425-4e38-9f3c-70aaf304d472"
      },
      "source": [
        "lst.append(5)\n",
        "lst"
      ],
      "execution_count": null,
      "outputs": [
        {
          "output_type": "execute_result",
          "data": {
            "text/plain": [
              "['Ram', 'Shyam', 5, 2, 6, 1, 'Python', 'Letsupgrade', 'Hello there!', 5, 5]"
            ]
          },
          "metadata": {
            "tags": []
          },
          "execution_count": 4
        }
      ]
    },
    {
      "cell_type": "code",
      "metadata": {
        "id": "s7l6pFl9qWgj",
        "colab_type": "code",
        "colab": {
          "base_uri": "https://localhost:8080/",
          "height": 34
        },
        "outputId": "605c1690-1447-4781-d2be-5e5cf29a3617"
      },
      "source": [
        "lst.reverse()\n",
        "lst"
      ],
      "execution_count": null,
      "outputs": [
        {
          "output_type": "execute_result",
          "data": {
            "text/plain": [
              "[5, 5, 'Hello there!', 'Letsupgrade', 'Python', 1, 6, 2, 5, 'Shyam', 'Ram']"
            ]
          },
          "metadata": {
            "tags": []
          },
          "execution_count": 5
        }
      ]
    },
    {
      "cell_type": "code",
      "metadata": {
        "id": "-wU9yyiGqqBr",
        "colab_type": "code",
        "colab": {
          "base_uri": "https://localhost:8080/",
          "height": 34
        },
        "outputId": "a7bb95ee-0a1c-40c2-8176-adeca5e22b95"
      },
      "source": [
        "lst.remove(\"Hello there!\")\n",
        "lst"
      ],
      "execution_count": null,
      "outputs": [
        {
          "output_type": "execute_result",
          "data": {
            "text/plain": [
              "[5, 5, 'Letsupgrade', 'Python', 1, 6, 2, 5, 'Shyam', 'Ram']"
            ]
          },
          "metadata": {
            "tags": []
          },
          "execution_count": 6
        }
      ]
    },
    {
      "cell_type": "code",
      "metadata": {
        "id": "oWW0QYZrqx0g",
        "colab_type": "code",
        "colab": {
          "base_uri": "https://localhost:8080/",
          "height": 34
        },
        "outputId": "a23f965c-0a6d-4fed-92b4-c7aee864c07c"
      },
      "source": [
        "lst.reverse()\n",
        "lst"
      ],
      "execution_count": null,
      "outputs": [
        {
          "output_type": "execute_result",
          "data": {
            "text/plain": [
              "['Ram', 'Shyam', 5, 2, 6, 1, 'Python', 'Letsupgrade', 5, 5]"
            ]
          },
          "metadata": {
            "tags": []
          },
          "execution_count": 7
        }
      ]
    },
    {
      "cell_type": "code",
      "metadata": {
        "id": "e2f7VjoYq3QK",
        "colab_type": "code",
        "colab": {
          "base_uri": "https://localhost:8080/",
          "height": 34
        },
        "outputId": "2bdd0bdd-d783-4155-f066-e597c8da7a83"
      },
      "source": [
        "lst.count(5)"
      ],
      "execution_count": null,
      "outputs": [
        {
          "output_type": "execute_result",
          "data": {
            "text/plain": [
              "3"
            ]
          },
          "metadata": {
            "tags": []
          },
          "execution_count": 8
        }
      ]
    },
    {
      "cell_type": "code",
      "metadata": {
        "id": "bOoaIBBTrB1m",
        "colab_type": "code",
        "colab": {
          "base_uri": "https://localhost:8080/",
          "height": 34
        },
        "outputId": "7c586270-f04f-4fa4-a487-a7f99cb5e72c"
      },
      "source": [
        "lst.count(\"Letsupgrade\")"
      ],
      "execution_count": null,
      "outputs": [
        {
          "output_type": "execute_result",
          "data": {
            "text/plain": [
              "1"
            ]
          },
          "metadata": {
            "tags": []
          },
          "execution_count": 9
        }
      ]
    },
    {
      "cell_type": "code",
      "metadata": {
        "id": "1bSw54zerK13",
        "colab_type": "code",
        "colab": {
          "base_uri": "https://localhost:8080/",
          "height": 34
        },
        "outputId": "34682f28-f2fd-4d9f-b44d-9ad88d89d9c8"
      },
      "source": [
        "lst.pop()"
      ],
      "execution_count": null,
      "outputs": [
        {
          "output_type": "execute_result",
          "data": {
            "text/plain": [
              "5"
            ]
          },
          "metadata": {
            "tags": []
          },
          "execution_count": 10
        }
      ]
    },
    {
      "cell_type": "code",
      "metadata": {
        "id": "7_o5chqUrSHt",
        "colab_type": "code",
        "colab": {
          "base_uri": "https://localhost:8080/",
          "height": 34
        },
        "outputId": "844292da-b598-42b9-f7cc-4372bf0cab7f"
      },
      "source": [
        "lst"
      ],
      "execution_count": null,
      "outputs": [
        {
          "output_type": "execute_result",
          "data": {
            "text/plain": [
              "['Ram', 'Shyam', 5, 2, 6, 1, 'Python', 'Letsupgrade', 5]"
            ]
          },
          "metadata": {
            "tags": []
          },
          "execution_count": 12
        }
      ]
    },
    {
      "cell_type": "code",
      "metadata": {
        "id": "_h6W3mAarZpa",
        "colab_type": "code",
        "colab": {
          "base_uri": "https://localhost:8080/",
          "height": 34
        },
        "outputId": "fb975a51-b9a8-4996-95a4-de9879704988"
      },
      "source": [
        "lst[-1]"
      ],
      "execution_count": null,
      "outputs": [
        {
          "output_type": "execute_result",
          "data": {
            "text/plain": [
              "5"
            ]
          },
          "metadata": {
            "tags": []
          },
          "execution_count": 13
        }
      ]
    },
    {
      "cell_type": "code",
      "metadata": {
        "id": "GhysObHFryVy",
        "colab_type": "code",
        "colab": {
          "base_uri": "https://localhost:8080/",
          "height": 34
        },
        "outputId": "eef4e484-7cce-425d-86ef-7a4c8d606c63"
      },
      "source": [
        "lst"
      ],
      "execution_count": null,
      "outputs": [
        {
          "output_type": "execute_result",
          "data": {
            "text/plain": [
              "['Ram', 'Shyam', 5, 2, 6, 1, 'Python', 'Letsupgrade', 5]"
            ]
          },
          "metadata": {
            "tags": []
          },
          "execution_count": 14
        }
      ]
    },
    {
      "cell_type": "code",
      "metadata": {
        "id": "Zuya9qtEsp0r",
        "colab_type": "code",
        "colab": {
          "base_uri": "https://localhost:8080/",
          "height": 269
        },
        "outputId": "dc8e2ec1-aa9a-47db-ec82-3c593b2cea1d"
      },
      "source": [
        "lst.extend(\"HACKER\")\n",
        "lst"
      ],
      "execution_count": null,
      "outputs": [
        {
          "output_type": "execute_result",
          "data": {
            "text/plain": [
              "['Ram',\n",
              " 'Shyam',\n",
              " 5,\n",
              " 2,\n",
              " 6,\n",
              " 1,\n",
              " 'Python',\n",
              " 'Letsupgrade',\n",
              " 5,\n",
              " 'H',\n",
              " 'A',\n",
              " 'C',\n",
              " 'K',\n",
              " 'E',\n",
              " 'R']"
            ]
          },
          "metadata": {
            "tags": []
          },
          "execution_count": 15
        }
      ]
    },
    {
      "cell_type": "markdown",
      "metadata": {
        "id": "BxQKPvmQtFPA",
        "colab_type": "text"
      },
      "source": [
        "**2. DICTIONARY AND ITS DEFAULT  FUNCTIONS**"
      ]
    },
    {
      "cell_type": "code",
      "metadata": {
        "id": "ce7tPIPZsw8S",
        "colab_type": "code",
        "colab": {
          "base_uri": "https://localhost:8080/",
          "height": 84
        },
        "outputId": "4d625cfa-f98c-4770-c313-bb31ca01796d"
      },
      "source": [
        "dic = {\"Name\" : \"Kishan Kumar Rai\", \"Class\" : \"B.tech(CSE)\",\n",
        "       \"Mobile\" : 123456890, \"Age\" : 20}\n",
        "dic"
      ],
      "execution_count": null,
      "outputs": [
        {
          "output_type": "execute_result",
          "data": {
            "text/plain": [
              "{'Age': 20,\n",
              " 'Class': 'B.tech(CSE)',\n",
              " 'Mobile': 123456890,\n",
              " 'Name': 'Kishan Kumar Rai'}"
            ]
          },
          "metadata": {
            "tags": []
          },
          "execution_count": 17
        }
      ]
    },
    {
      "cell_type": "code",
      "metadata": {
        "id": "XuULy_ZNuVSN",
        "colab_type": "code",
        "colab": {
          "base_uri": "https://localhost:8080/",
          "height": 35
        },
        "outputId": "d2eceaea-7b07-41c3-81e5-2e61286106dd"
      },
      "source": [
        "dic.get(\"Name\")"
      ],
      "execution_count": null,
      "outputs": [
        {
          "output_type": "execute_result",
          "data": {
            "application/vnd.google.colaboratory.intrinsic+json": {
              "type": "string"
            },
            "text/plain": [
              "'Kishan Kumar Rai'"
            ]
          },
          "metadata": {
            "tags": []
          },
          "execution_count": 18
        }
      ]
    },
    {
      "cell_type": "code",
      "metadata": {
        "id": "Qu86nmFQuyGU",
        "colab_type": "code",
        "colab": {
          "base_uri": "https://localhost:8080/",
          "height": 34
        },
        "outputId": "525b5bfe-fb12-4cb6-fc83-cb5ea6284a15"
      },
      "source": [
        "dic.values()"
      ],
      "execution_count": null,
      "outputs": [
        {
          "output_type": "execute_result",
          "data": {
            "text/plain": [
              "dict_values(['Kishan Kumar Rai', 'B.tech(CSE)', 123456890, 20])"
            ]
          },
          "metadata": {
            "tags": []
          },
          "execution_count": 19
        }
      ]
    },
    {
      "cell_type": "code",
      "metadata": {
        "id": "aGyNTuESu4rv",
        "colab_type": "code",
        "colab": {
          "base_uri": "https://localhost:8080/",
          "height": 34
        },
        "outputId": "dbeec08a-e28e-4066-a0f5-8a7f7805095a"
      },
      "source": [
        "dic.keys()"
      ],
      "execution_count": null,
      "outputs": [
        {
          "output_type": "execute_result",
          "data": {
            "text/plain": [
              "dict_keys(['Name', 'Class', 'Mobile', 'Age'])"
            ]
          },
          "metadata": {
            "tags": []
          },
          "execution_count": 20
        }
      ]
    },
    {
      "cell_type": "code",
      "metadata": {
        "id": "nOskAeavu-eZ",
        "colab_type": "code",
        "colab": {
          "base_uri": "https://localhost:8080/",
          "height": 84
        },
        "outputId": "315b1ad8-ba3d-44c8-a2de-bc3458d6cd4e"
      },
      "source": [
        "dic.update(Age=25)\n",
        "dic"
      ],
      "execution_count": null,
      "outputs": [
        {
          "output_type": "execute_result",
          "data": {
            "text/plain": [
              "{'Age': 25,\n",
              " 'Class': 'B.tech(CSE)',\n",
              " 'Mobile': 123456890,\n",
              " 'Name': 'Kishan Kumar Rai'}"
            ]
          },
          "metadata": {
            "tags": []
          },
          "execution_count": 23
        }
      ]
    },
    {
      "cell_type": "code",
      "metadata": {
        "id": "weASDDZRvJgc",
        "colab_type": "code",
        "colab": {
          "base_uri": "https://localhost:8080/",
          "height": 34
        },
        "outputId": "2deaf87e-503b-4867-92c4-59484fa193c6"
      },
      "source": [
        "dic.pop(\"Age\")\n",
        "dic"
      ],
      "execution_count": null,
      "outputs": [
        {
          "output_type": "execute_result",
          "data": {
            "text/plain": [
              "{'Class': 'B.tech(CSE)', 'Mobile': 123456890, 'Name': 'Kishan Kumar Rai'}"
            ]
          },
          "metadata": {
            "tags": []
          },
          "execution_count": 25
        }
      ]
    },
    {
      "cell_type": "code",
      "metadata": {
        "id": "xYYZcab_vmz2",
        "colab_type": "code",
        "colab": {
          "base_uri": "https://localhost:8080/",
          "height": 34
        },
        "outputId": "ae40568c-888e-40aa-ec4e-137ab9b8953d"
      },
      "source": [
        "dic.clear()\n",
        "dic"
      ],
      "execution_count": null,
      "outputs": [
        {
          "output_type": "execute_result",
          "data": {
            "text/plain": [
              "{}"
            ]
          },
          "metadata": {
            "tags": []
          },
          "execution_count": 26
        }
      ]
    },
    {
      "cell_type": "code",
      "metadata": {
        "id": "rCLkR6_Bv0J5",
        "colab_type": "code",
        "colab": {
          "base_uri": "https://localhost:8080/",
          "height": 34
        },
        "outputId": "73f9a691-c8d1-40fc-c5c8-bcb2f375cff9"
      },
      "source": [
        "type(dic)"
      ],
      "execution_count": null,
      "outputs": [
        {
          "output_type": "execute_result",
          "data": {
            "text/plain": [
              "dict"
            ]
          },
          "metadata": {
            "tags": []
          },
          "execution_count": 28
        }
      ]
    },
    {
      "cell_type": "markdown",
      "metadata": {
        "id": "PdFn48M2v5r6",
        "colab_type": "text"
      },
      "source": [
        "**3. SETS AND ITS DEFAULT FUNCTIONS**"
      ]
    },
    {
      "cell_type": "code",
      "metadata": {
        "id": "1zD2En9kwxjO",
        "colab_type": "code",
        "colab": {
          "base_uri": "https://localhost:8080/",
          "height": 34
        },
        "outputId": "17b651f4-ff96-41d0-aaa1-9c7edc287ee2"
      },
      "source": [
        "set = {5,1,0,0,4,6,6,3,6,\"python\",\"java\",\"ruby\",2.5,\"html\"}\n",
        "set"
      ],
      "execution_count": null,
      "outputs": [
        {
          "output_type": "execute_result",
          "data": {
            "text/plain": [
              "{0, 1, 2.5, 3, 4, 5, 6, 'html', 'java', 'python', 'ruby'}"
            ]
          },
          "metadata": {
            "tags": []
          },
          "execution_count": 33
        }
      ]
    },
    {
      "cell_type": "code",
      "metadata": {
        "id": "Gu4IitKTyKNg",
        "colab_type": "code",
        "colab": {
          "base_uri": "https://localhost:8080/",
          "height": 34
        },
        "outputId": "db9eccf6-faaa-4f99-a5da-6139902960f4"
      },
      "source": [
        "set.add(\"js\")\n",
        "set"
      ],
      "execution_count": null,
      "outputs": [
        {
          "output_type": "execute_result",
          "data": {
            "text/plain": [
              "{0, 1, 2.5, 3, 4, 5, 6, 'html', 'java', 'js', 'python', 'ruby'}"
            ]
          },
          "metadata": {
            "tags": []
          },
          "execution_count": 34
        }
      ]
    },
    {
      "cell_type": "code",
      "metadata": {
        "id": "WDLAuHxPy9HM",
        "colab_type": "code",
        "colab": {
          "base_uri": "https://localhost:8080/",
          "height": 34
        },
        "outputId": "dc042433-292f-42dc-e6b8-6a8b8156caa4"
      },
      "source": [
        "set.remove(\"js\")\n",
        "set"
      ],
      "execution_count": null,
      "outputs": [
        {
          "output_type": "execute_result",
          "data": {
            "text/plain": [
              "{0, 1, 2.5, 3, 4, 5, 6, 'html', 'java', 'python', 'ruby'}"
            ]
          },
          "metadata": {
            "tags": []
          },
          "execution_count": 35
        }
      ]
    },
    {
      "cell_type": "code",
      "metadata": {
        "id": "7cRawII5zCuE",
        "colab_type": "code",
        "colab": {
          "base_uri": "https://localhost:8080/",
          "height": 34
        },
        "outputId": "bc9b5291-3686-4a4f-8c64-d607b013070b"
      },
      "source": [
        "set1 = {0,1,2,3,4,5}\n",
        "set1.issuperset(set)\n"
      ],
      "execution_count": null,
      "outputs": [
        {
          "output_type": "execute_result",
          "data": {
            "text/plain": [
              "False"
            ]
          },
          "metadata": {
            "tags": []
          },
          "execution_count": 40
        }
      ]
    },
    {
      "cell_type": "code",
      "metadata": {
        "id": "sTi49-WhzWY9",
        "colab_type": "code",
        "colab": {
          "base_uri": "https://localhost:8080/",
          "height": 34
        },
        "outputId": "103cfb79-5119-4b6f-d959-8bf42d988b94"
      },
      "source": [
        "set2 = {0,1,3,6}\n",
        "set2.issubset(set)"
      ],
      "execution_count": null,
      "outputs": [
        {
          "output_type": "execute_result",
          "data": {
            "text/plain": [
              "True"
            ]
          },
          "metadata": {
            "tags": []
          },
          "execution_count": 41
        }
      ]
    },
    {
      "cell_type": "code",
      "metadata": {
        "id": "_aZ2WMhXzhwQ",
        "colab_type": "code",
        "colab": {
          "base_uri": "https://localhost:8080/",
          "height": 34
        },
        "outputId": "afdb5bde-9b28-4955-ef7c-098977ea9f79"
      },
      "source": [
        "set2.intersection(set)"
      ],
      "execution_count": null,
      "outputs": [
        {
          "output_type": "execute_result",
          "data": {
            "text/plain": [
              "{0, 1, 3, 6}"
            ]
          },
          "metadata": {
            "tags": []
          },
          "execution_count": 42
        }
      ]
    },
    {
      "cell_type": "code",
      "metadata": {
        "id": "Zw2hHNJcz8Mz",
        "colab_type": "code",
        "colab": {
          "base_uri": "https://localhost:8080/",
          "height": 34
        },
        "outputId": "51d3fd74-d198-41b9-fc1f-e83c94975d63"
      },
      "source": [
        "set.remove(\"html\")\n",
        "set"
      ],
      "execution_count": null,
      "outputs": [
        {
          "output_type": "execute_result",
          "data": {
            "text/plain": [
              "{0, 1, 2.5, 3, 4, 5, 6, 'java', 'python', 'ruby'}"
            ]
          },
          "metadata": {
            "tags": []
          },
          "execution_count": 43
        }
      ]
    },
    {
      "cell_type": "code",
      "metadata": {
        "id": "aVg1GMoq0JTI",
        "colab_type": "code",
        "colab": {
          "base_uri": "https://localhost:8080/",
          "height": 34
        },
        "outputId": "819ea4a1-f5bf-4c4f-8c8f-d2e7afc7ec32"
      },
      "source": [
        "fam = [9,\"jarvas\"]\n",
        "set.update(fam)\n",
        "set"
      ],
      "execution_count": null,
      "outputs": [
        {
          "output_type": "execute_result",
          "data": {
            "text/plain": [
              "{0, 1, 2.5, 3, 4, 5, 6, 9, 'jarvas', 'java', 'python', 'ruby'}"
            ]
          },
          "metadata": {
            "tags": []
          },
          "execution_count": 44
        }
      ]
    },
    {
      "cell_type": "code",
      "metadata": {
        "id": "tkoIv7zf0jL0",
        "colab_type": "code",
        "colab": {
          "base_uri": "https://localhost:8080/",
          "height": 34
        },
        "outputId": "4af7efdf-9803-4924-a665-fe222994d3cb"
      },
      "source": [
        "set.pop()"
      ],
      "execution_count": null,
      "outputs": [
        {
          "output_type": "execute_result",
          "data": {
            "text/plain": [
              "0"
            ]
          },
          "metadata": {
            "tags": []
          },
          "execution_count": 45
        }
      ]
    },
    {
      "cell_type": "markdown",
      "metadata": {
        "id": "ZZbjklsv0t7S",
        "colab_type": "text"
      },
      "source": [
        "**4. TUPLE AND ITS DAFAULT METHODS**"
      ]
    },
    {
      "cell_type": "code",
      "metadata": {
        "id": "z2VqWEwW1A4q",
        "colab_type": "code",
        "colab": {
          "base_uri": "https://localhost:8080/",
          "height": 34
        },
        "outputId": "d3b168c1-76ae-49f2-a8df-9f558fea3547"
      },
      "source": [
        "tup = (\"Ram\",\"Shyam\",5,2,6,1,\"Python\",\"Letsupgrade\")\n",
        "tup"
      ],
      "execution_count": null,
      "outputs": [
        {
          "output_type": "execute_result",
          "data": {
            "text/plain": [
              "('Ram', 'Shyam', 5, 2, 6, 1, 'Python', 'Letsupgrade')"
            ]
          },
          "metadata": {
            "tags": []
          },
          "execution_count": 1
        }
      ]
    },
    {
      "cell_type": "code",
      "metadata": {
        "id": "X5dv05Bk0rfG",
        "colab_type": "code",
        "colab": {
          "base_uri": "https://localhost:8080/",
          "height": 34
        },
        "outputId": "a143e3d7-b44d-4d60-bfe5-6c3b4b1939a7"
      },
      "source": [
        "tup.count(1)"
      ],
      "execution_count": null,
      "outputs": [
        {
          "output_type": "execute_result",
          "data": {
            "text/plain": [
              "1"
            ]
          },
          "metadata": {
            "tags": []
          },
          "execution_count": 2
        }
      ]
    },
    {
      "cell_type": "code",
      "metadata": {
        "id": "KtMbRzbTMdA1",
        "colab_type": "code",
        "colab": {
          "base_uri": "https://localhost:8080/",
          "height": 34
        },
        "outputId": "4467d9bc-fd88-4fbc-9173-e1b8246332d9"
      },
      "source": [
        "tup.index(\"Letsupgrade\")"
      ],
      "execution_count": null,
      "outputs": [
        {
          "output_type": "execute_result",
          "data": {
            "text/plain": [
              "7"
            ]
          },
          "metadata": {
            "tags": []
          },
          "execution_count": 3
        }
      ]
    },
    {
      "cell_type": "code",
      "metadata": {
        "id": "i7cFJCH1MiET",
        "colab_type": "code",
        "colab": {
          "base_uri": "https://localhost:8080/",
          "height": 34
        },
        "outputId": "0086952f-4b0b-43d3-91b6-a6bb6e669591"
      },
      "source": [
        "tup.index(\"Python\")"
      ],
      "execution_count": null,
      "outputs": [
        {
          "output_type": "execute_result",
          "data": {
            "text/plain": [
              "6"
            ]
          },
          "metadata": {
            "tags": []
          },
          "execution_count": 6
        }
      ]
    },
    {
      "cell_type": "markdown",
      "metadata": {
        "id": "RLo61snuM6at",
        "colab_type": "text"
      },
      "source": [
        "**5. STRINGS AND ITS DEFAULT METHODS**"
      ]
    },
    {
      "cell_type": "code",
      "metadata": {
        "id": "YT0TEGheMmhq",
        "colab_type": "code",
        "colab": {
          "base_uri": "https://localhost:8080/",
          "height": 35
        },
        "outputId": "b2a104ea-b24f-4e54-b4e3-872fe55fb164"
      },
      "source": [
        "stg = \"Welcome to my world, Let's get discover\"\n",
        "stg"
      ],
      "execution_count": null,
      "outputs": [
        {
          "output_type": "execute_result",
          "data": {
            "application/vnd.google.colaboratory.intrinsic+json": {
              "type": "string"
            },
            "text/plain": [
              "\"Welcome to my world, Let's get discover\""
            ]
          },
          "metadata": {
            "tags": []
          },
          "execution_count": 7
        }
      ]
    },
    {
      "cell_type": "code",
      "metadata": {
        "id": "FOpzyAZoOLqU",
        "colab_type": "code",
        "colab": {
          "base_uri": "https://localhost:8080/",
          "height": 34
        },
        "outputId": "9396d935-7484-4a3b-b564-11faf2cc8094"
      },
      "source": [
        "stg.count(\"e\")"
      ],
      "execution_count": null,
      "outputs": [
        {
          "output_type": "execute_result",
          "data": {
            "text/plain": [
              "5"
            ]
          },
          "metadata": {
            "tags": []
          },
          "execution_count": 9
        }
      ]
    },
    {
      "cell_type": "code",
      "metadata": {
        "id": "nngVAftbOR1b",
        "colab_type": "code",
        "colab": {
          "base_uri": "https://localhost:8080/",
          "height": 34
        },
        "outputId": "15b1753d-aa13-4d07-ea91-fbb676fff98d"
      },
      "source": [
        "stg.find(\"v\")"
      ],
      "execution_count": null,
      "outputs": [
        {
          "output_type": "execute_result",
          "data": {
            "text/plain": [
              "36"
            ]
          },
          "metadata": {
            "tags": []
          },
          "execution_count": 11
        }
      ]
    },
    {
      "cell_type": "code",
      "metadata": {
        "id": "Qo7_xSLDOfsu",
        "colab_type": "code",
        "colab": {
          "base_uri": "https://localhost:8080/",
          "height": 34
        },
        "outputId": "0acb257d-ffb1-43f2-8275-4b8d5f9fe26d"
      },
      "source": [
        "stg.index(\"i\")"
      ],
      "execution_count": null,
      "outputs": [
        {
          "output_type": "execute_result",
          "data": {
            "text/plain": [
              "32"
            ]
          },
          "metadata": {
            "tags": []
          },
          "execution_count": 14
        }
      ]
    },
    {
      "cell_type": "code",
      "metadata": {
        "id": "B8LzOtS7OtGj",
        "colab_type": "code",
        "colab": {
          "base_uri": "https://localhost:8080/",
          "height": 34
        },
        "outputId": "4cb279f5-f0a8-4997-aa51-222746bf96b8"
      },
      "source": [
        "stg.isdigit()"
      ],
      "execution_count": null,
      "outputs": [
        {
          "output_type": "execute_result",
          "data": {
            "text/plain": [
              "False"
            ]
          },
          "metadata": {
            "tags": []
          },
          "execution_count": 15
        }
      ]
    },
    {
      "cell_type": "code",
      "metadata": {
        "id": "FQ2ZXRwdPDaP",
        "colab_type": "code",
        "colab": {
          "base_uri": "https://localhost:8080/",
          "height": 34
        },
        "outputId": "fa33116f-e97a-4aaf-81b1-1277835290d8"
      },
      "source": [
        "stg.isdecimal()"
      ],
      "execution_count": null,
      "outputs": [
        {
          "output_type": "execute_result",
          "data": {
            "text/plain": [
              "False"
            ]
          },
          "metadata": {
            "tags": []
          },
          "execution_count": 16
        }
      ]
    },
    {
      "cell_type": "code",
      "metadata": {
        "id": "R85wbomwPGaA",
        "colab_type": "code",
        "colab": {
          "base_uri": "https://localhost:8080/",
          "height": 34
        },
        "outputId": "4150ed68-3564-481c-ea52-8136f9b3d8c0"
      },
      "source": [
        "stg.isalpha()"
      ],
      "execution_count": null,
      "outputs": [
        {
          "output_type": "execute_result",
          "data": {
            "text/plain": [
              "False"
            ]
          },
          "metadata": {
            "tags": []
          },
          "execution_count": 17
        }
      ]
    },
    {
      "cell_type": "code",
      "metadata": {
        "id": "Z80gRqzxPJSm",
        "colab_type": "code",
        "colab": {
          "base_uri": "https://localhost:8080/",
          "height": 34
        },
        "outputId": "d8a7cc23-c631-452a-9593-1a8b81fa7ad8"
      },
      "source": [
        "stg.isalnum()"
      ],
      "execution_count": null,
      "outputs": [
        {
          "output_type": "execute_result",
          "data": {
            "text/plain": [
              "False"
            ]
          },
          "metadata": {
            "tags": []
          },
          "execution_count": 18
        }
      ]
    },
    {
      "cell_type": "code",
      "metadata": {
        "id": "kvWomX8dPNBC",
        "colab_type": "code",
        "colab": {
          "base_uri": "https://localhost:8080/",
          "height": 34
        },
        "outputId": "6a35fe69-c796-4e75-ad06-4fd6f999fa2a"
      },
      "source": [
        "stg.islower()\n"
      ],
      "execution_count": null,
      "outputs": [
        {
          "output_type": "execute_result",
          "data": {
            "text/plain": [
              "False"
            ]
          },
          "metadata": {
            "tags": []
          },
          "execution_count": 19
        }
      ]
    },
    {
      "cell_type": "code",
      "metadata": {
        "id": "haN7WbmtPWhE",
        "colab_type": "code",
        "colab": {
          "base_uri": "https://localhost:8080/",
          "height": 35
        },
        "outputId": "cdbe36ba-4f12-4189-ab98-c47ae610d7fa"
      },
      "source": [
        "stg.swapcase()"
      ],
      "execution_count": null,
      "outputs": [
        {
          "output_type": "execute_result",
          "data": {
            "application/vnd.google.colaboratory.intrinsic+json": {
              "type": "string"
            },
            "text/plain": [
              "\"wELCOME TO MY WORLD, lET'S GET DISCOVER\""
            ]
          },
          "metadata": {
            "tags": []
          },
          "execution_count": 20
        }
      ]
    },
    {
      "cell_type": "code",
      "metadata": {
        "id": "PiVBHjSnPgKm",
        "colab_type": "code",
        "colab": {}
      },
      "source": [
        ""
      ],
      "execution_count": null,
      "outputs": []
    }
  ]
}